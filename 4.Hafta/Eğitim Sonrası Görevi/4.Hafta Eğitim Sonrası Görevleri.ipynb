{
 "cells": [
  {
   "cell_type": "markdown",
   "metadata": {},
   "source": [
    "# Problem 1\n",
    "`ogrenciler` adında bir sözlük oluşturunuz. Kullanıcıdan döngü yardımıyla 3 öğrenci için veri girmesini isteyerek öğrencilerin sırasıyla okul numarası, isim, soy isim, telefon numarası ve doğum tarihi bilgilerini alınız. Aldığınız öğrenci bilgilerini yine aynı döngü yardımıyla `ogrenciler` adındaki sözlükte saklayınız. Daha sonra öğrenci bilgilerinin bulunduğu sözlük yapısını ekrana bastırınız.\n",
    "\n"
   ]
  },
  {
   "cell_type": "markdown",
   "metadata": {},
   "source": []
  },
  {
   "cell_type": "code",
   "execution_count": 4,
   "metadata": {},
   "outputs": [
    {
     "ename": "IndentationError",
     "evalue": "expected an indented block after 'for' statement on line 5 (3625340149.py, line 7)",
     "output_type": "error",
     "traceback": [
      "\u001b[0;36m  Cell \u001b[0;32mIn[4], line 7\u001b[0;36m\u001b[0m\n\u001b[0;31m    okulNo = input(\"Okul nonuzu giriniz:\")\u001b[0m\n\u001b[0m    ^\u001b[0m\n\u001b[0;31mIndentationError\u001b[0m\u001b[0;31m:\u001b[0m expected an indented block after 'for' statement on line 5\n"
     ]
    }
   ],
   "source": [
    "# Acil durumlarda çözüm için aşağıdaki kodu kullanabilirsiniz.\n",
    "# YetNot: sozluk adında bir değişken oluşturup boş bir sözlük atayalım.\n",
    "ogrenciler = {}\n",
    "# YetNot: Döngü yapısını kullanarak 3 öğrencinin bilgisini alalım.\n",
    "for i in range (1,4):\n",
    "# YetNot: okulNo adında bir değişken oluşturup okul numarasını alalım.\n",
    "okulNo = input(\"Okul nonuzu giriniz:\")\n",
    "# YetNot: isim adında bir değişken oluşturup isim alalım.\n",
    "isim = input(\"İsminizi giriniz:\")\n",
    "# YetNot: SoyIsim adında bir değişken oluşturup soyisim alalım.\n",
    "soyIsim = input(\"Soyisminizi giriniz:\")\n",
    "# YetNot: telefon adında bir değişken oluşturup telefon numarasını alalım.\n",
    "telefon = input(\"Telefon numaranızı giriniz:\")\n",
    "# YetNot: dogumTarihi adında bir değişken oluşturup doğum tarihini alalım.\n",
    "dogumTarihi = input(\"Doğum tarihinizi giriniz:\")\n",
    "print(\"----------------------------------------------------------\")\n",
    "# YetNot ogrenciler sözlüğüne verileri ekleyelim.\n",
    "# Key olarak alınacak bilgiler, value olarak ise değişkenleri alalım\n",
    "ogrenciler [i] = {\n",
    "    \"No\" : okulNo,\n",
    "    \"İsim\": isim,\n",
    "    \"Soy İsim\": soyIsim,\n",
    "    \"Telefon\": telefon,\n",
    "    \"Doğum Tarihi\": dogumTarihi\n",
    "    }\n",
    "    # YetNot: ogrenciler sözlüğünü ekrana bastıralım\n",
    "    print(ogrenciler)"
   ]
  },
  {
   "cell_type": "markdown",
   "metadata": {},
   "source": [
    "# Problem 2\n",
    "\n",
    "### a - Biraz ısınarak başlayalım!\n",
    "\n",
    "```\n",
    "numbers = [5,10,10,15,15,15,20,20,20,20]\n",
    "```\n",
    "\n",
    "Yukarıda `numbers` adında 10 elemanlı bir liste verilmiştir. Bu listenin her elemanını kontrol eden ve tekrar eden elemanları bir kez olacak şekilde başka bir listeye kopyalayan bir program yazınız. Son olarak oluşturduğunuz listeyi ekrana bastırınız.\n",
    "\n",
    "\n",
    "\n",
    "\n",
    "```\n",
    ">Output\n",
    "[5, 10, 15, 20]\n",
    "```\n"
   ]
  },
  {
   "cell_type": "code",
   "execution_count": 5,
   "metadata": {},
   "outputs": [
    {
     "name": "stdout",
     "output_type": "stream",
     "text": [
      "[5, 10, 15, 20]\n"
     ]
    }
   ],
   "source": [
    "# Acil durumlarda çözüm için aşağıdaki kodu kullanabilirsiniz.\n",
    "numbers = [5,10,10,15,15,15,20,20,20,20]\n",
    "# YetNot: unique adında bir değişken oluşturup boş bir liste ekleyelim.\n",
    "unique = []\n",
    "# YetNot: numbers listesini gezelim.\n",
    "for number in numbers:\n",
    "    # YetNot: unique içinde o sayı varsa o sayıyı atlayalım.\n",
    "    if number in unique:\n",
    "        continue\n",
    "    # YetNot: unique içinde o sayı yoksa listeye o sayıyı ekleyelim.\n",
    "    else:\n",
    "        unique.append(number)\n",
    "# unique listesini ekrana yazdıralım.\n",
    "print(unique)"
   ]
  },
  {
   "cell_type": "markdown",
   "metadata": {},
   "source": [
    "### 🌶️ b) Hadi işi biraz daha zorlaştıralım! \n",
    "\n",
    "\n",
    "Şimdiyse senden `numbers` isimli listedeki tekrar eden elemanları `repeatNumbers` adındaki listeye; tekrar etmeyen elemanları `uniqueNumbers`adındaki listeye kopyalayan yazmanı ve listeleri ekrana bastırmanı bekliyoruz\n",
    "\n",
    "```\n",
    ">Output\n",
    "Tekrar Eden Elemanlar: [10, 10, 15, 15, 15, 20, 20, 20, 20]\n",
    "Tekrar Etmeyen Elemanlar: [5]\n",
    "```"
   ]
  },
  {
   "cell_type": "code",
   "execution_count": 8,
   "metadata": {},
   "outputs": [
    {
     "ename": "IndentationError",
     "evalue": "expected an indented block after 'for' statement on line 8 (1198224704.py, line 10)",
     "output_type": "error",
     "traceback": [
      "\u001b[0;36m  Cell \u001b[0;32mIn[8], line 10\u001b[0;36m\u001b[0m\n\u001b[0;31m    if numbers.count(number) == 1:\u001b[0m\n\u001b[0m    ^\u001b[0m\n\u001b[0;31mIndentationError\u001b[0m\u001b[0;31m:\u001b[0m expected an indented block after 'for' statement on line 8\n"
     ]
    }
   ],
   "source": [
    "# Acil durumlarda çözüm için aşağıdaki kodu kullanabilirsiniz.\n",
    "numbers = [5,10,10,15,15,15,20,20,20,20]\n",
    "# YetNot: unique adında bir değişken oluşturup boş bir liste ekleyelim.\n",
    "unique = []\n",
    "# YetNot: repeat adında bir değişken oluşturup boş bir liste ekleyelim.\n",
    "repeat = []\n",
    "# YetNot: numbers listesini gezelim.\n",
    "for number in numbers:\n",
    "# YetNot: numbers listesinde elemandan 1 tane varsa unique listesine ekleyelim\n",
    "if numbers.count(number) == 1:\n",
    "    unique.append(number)\n",
    "# YetNot: numbers listesinde yoksa repeat listesine ekleyelim\n",
    "else:\n",
    "    repeat.append(number)\n",
    "# YetNot: repeat listesini ekrana bastıralım.\n",
    "print(\"Tekrar Eden Elemanlar: \", repeat)\n",
    "# YetNot : unique listesini ekrana bastıralım.\n",
    "print(\"Tekrar Etmeyen Elemanlar: \", unique)"
   ]
  },
  {
   "cell_type": "markdown",
   "metadata": {},
   "source": [
    "# Problem 3\n",
    "sn1 = {1,2,3,4,5}\n",
    "\n",
    "sn2 = {4,5,6,7,8}\n",
    "\n",
    " Verilen 2 adet küme için kesişimlerini, farklarını ve birleşimlerini bulunuz. "
   ]
  },
  {
   "cell_type": "code",
   "execution_count": 10,
   "metadata": {},
   "outputs": [
    {
     "name": "stdout",
     "output_type": "stream",
     "text": [
      "{1, 2, 3, 4, 5, 6, 7, 8}\n"
     ]
    }
   ],
   "source": [
    "# Acil durumlarda çözüm için aşağıdaki kodu kullanabilirsiniz.\n",
    "sn1 = {1,2,3,4,5}\n",
    "sn2 = {4,5,6,7,8}\n",
    "# YetNot: birlesim adında değişken oluşturup kümenin birleşimini oluşturalım.\n",
    "birlesim = sn1.update(sn2)\n",
    "# YetNot: sn1 kümesini ekrana bastıralım.\n",
    "print(sn1)\n"
   ]
  },
  {
   "cell_type": "markdown",
   "metadata": {},
   "source": [
    "# Problem 4\n",
    "\n",
    "Buradaki işlemlerimizin tamamı stringler içindir. Aşağıda verilecek olan metodlar için kendinizin örnek yaratması gerekmektedir. \n",
    "\n",
    "Örneğin `upper` için `string` değişkeni oluştururken` k = \"BAC\"` şeklinde oluşturmayınız. Bunun yerine k değişkenini `k = \"bac`\" şeklinde oluşturmanız `upper` metodundaki değişimi görebilmeniz için daha iyi olacaktır.\n",
    "\n",
    "Bütün metodlardaki değişimin gözle görülür şekilde değişimi beklenmektedir.\n",
    "\n",
    "\n",
    "1- capitalize(), lower(), upper(), swapcase(), title(), replace()\n",
    "\n",
    "2- endswith(), startswith(), find(), index(), count()\n",
    "\n",
    "3- split(), strip(), join(), islower(), isalpha(), isdigit()\n",
    "\n",
    "\n",
    "Yukarıdaki `string` metodlarındaki değişimleri görebildiğimiz bir program yazınız.\n"
   ]
  },
  {
   "cell_type": "code",
   "execution_count": null,
   "metadata": {},
   "outputs": [],
   "source": [
    "# 4.Problemin Çözümünü Buraya Yazınız"
   ]
  }
 ],
 "metadata": {
  "kernelspec": {
   "display_name": "Python 3",
   "language": "python",
   "name": "python3"
  },
  "language_info": {
   "codemirror_mode": {
    "name": "ipython",
    "version": 3
   },
   "file_extension": ".py",
   "mimetype": "text/x-python",
   "name": "python",
   "nbconvert_exporter": "python",
   "pygments_lexer": "ipython3",
   "version": "3.11.1"
  },
  "orig_nbformat": 4,
  "vscode": {
   "interpreter": {
    "hash": "aee8b7b246df8f9039afb4144a1f6fd8d2ca17a180786b69acc140d282b71a49"
   }
  }
 },
 "nbformat": 4,
 "nbformat_minor": 2
}
