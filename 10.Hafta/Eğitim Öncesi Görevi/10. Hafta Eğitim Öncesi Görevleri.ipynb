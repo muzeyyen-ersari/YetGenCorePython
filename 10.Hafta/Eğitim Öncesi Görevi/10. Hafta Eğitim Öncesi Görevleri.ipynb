{
 "cells": [
  {
   "attachments": {},
   "cell_type": "markdown",
   "metadata": {},
   "source": [
    "# Problem 1"
   ]
  },
  {
   "cell_type": "code",
   "execution_count": 17,
   "metadata": {},
   "outputs": [
    {
     "name": "stdout",
     "output_type": "stream",
     "text": [
      "[5 9 5 6 4]\n",
      "Matris boyutu: (5,)\n",
      "[5 9 5 6 4]\n",
      "[[1]\n",
      " [3]\n",
      " [5]\n",
      " [7]\n",
      " [9]]\n",
      "Yeni Matris boyutu: (5, 1)\n",
      "Matrisin boyut sayısı: 1\n"
     ]
    }
   ],
   "source": [
    "\n",
    "import numpy as np\n",
    "\n",
    "y = np.random.randint(0, 10, size=(5))\n",
    "\n",
    "print(y)\n",
    "\n",
    "print(f\"Matris boyutu: {y.shape}\")\n",
    "\n",
    "print(y)\n",
    "\n",
    "yenimatris = matris.reshape(5, 1)\n",
    "\n",
    "print(yenimatris)\n",
    "\n",
    "print(f\"Yeni Matris boyutu: {yenimatris.shape}\")\n",
    "\n",
    "\n",
    "print(f\"Matrisin boyut sayısı:\", y.ndim)\n"
   ]
  },
  {
   "attachments": {},
   "cell_type": "markdown",
   "metadata": {},
   "source": [
    "# Problem 2"
   ]
  },
  {
   "cell_type": "code",
   "execution_count": 6,
   "metadata": {},
   "outputs": [
    {
     "name": "stdout",
     "output_type": "stream",
     "text": [
      "[[1]\n",
      " [3]\n",
      " [5]\n",
      " [7]\n",
      " [9]]\n",
      "[[1]\n",
      " [3]\n",
      " [5]]\n",
      "[[5]\n",
      " [7]\n",
      " [9]]\n",
      "[[1 5]\n",
      " [3 7]\n",
      " [5 9]]\n"
     ]
    }
   ],
   "source": [
    "import numpy as np\n",
    "\n",
    "matris = np.arange(1, 10, 2).reshape(5, 1)\n",
    "\n",
    "print(matris)\n",
    "\n",
    "x = matris[:3]\n",
    "y=matris[2:]\n",
    "\n",
    "print(x)\n",
    "\n",
    "print(y)\n",
    " \n",
    "birlesikMatris = np.concatenate((x, y), axis=1)\n",
    "\n",
    "\n",
    "print(birlesikMatris)"
   ]
  },
  {
   "attachments": {},
   "cell_type": "markdown",
   "metadata": {},
   "source": [
    "# Problem 3"
   ]
  },
  {
   "cell_type": "code",
   "execution_count": 7,
   "metadata": {},
   "outputs": [
    {
     "name": "stdout",
     "output_type": "stream",
     "text": [
      "[[ 66  26]\n",
      " [116 148]\n",
      " [138  68]\n",
      " [194  14]\n",
      " [142  10]]\n",
      "Matris boyutu: (5, 2)\n",
      "Matris eleman sayısı: 10\n",
      "Matris boyut sayısı: 2\n",
      "Matris elemanlarının veri tipi: int32\n"
     ]
    }
   ],
   "source": [
    "\n",
    "import numpy as np\n",
    "\n",
    "z = np.random.randint(5, 100, size=(5, 2)) * 2\n",
    "print(z)\n",
    "\n",
    "\n",
    "print(f\"Matris boyutu: {z.shape}\")\n",
    "print(f\"Matris eleman sayısı: {z.size}\")\n",
    "print(f\"Matris boyut sayısı: {z.ndim}\")\n",
    "print(f\"Matris elemanlarının veri tipi: {z.dtype}\")\n"
   ]
  }
 ],
 "metadata": {
  "kernelspec": {
   "display_name": "Python 3",
   "language": "python",
   "name": "python3"
  },
  "language_info": {
   "codemirror_mode": {
    "name": "ipython",
    "version": 3
   },
   "file_extension": ".py",
   "mimetype": "text/x-python",
   "name": "python",
   "nbconvert_exporter": "python",
   "pygments_lexer": "ipython3",
   "version": "3.11.1"
  },
  "orig_nbformat": 4,
  "vscode": {
   "interpreter": {
    "hash": "5026d2d6e7aaaaba093def813beadff083d8733e4a511af01735cbabd156995d"
   }
  }
 },
 "nbformat": 4,
 "nbformat_minor": 2
}
