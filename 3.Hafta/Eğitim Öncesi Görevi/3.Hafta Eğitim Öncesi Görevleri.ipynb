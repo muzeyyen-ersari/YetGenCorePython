{
  "cells": [
    {
      "cell_type": "markdown",
      "metadata": {
        "id": "tsD4YVAe_Te2"
      },
      "source": [
        "# Problem 1\n",
        "Bir sayının 7'ye bölünebilir olup olmadığını kontrol etmek \n",
        "için bir program yazın.\n",
        "\n",
        "İpucu: Mod operatörünü (%) kullanabilirsiniz."
      ]
    },
    {
      "cell_type": "code",
      "execution_count": 1,
      "metadata": {
        "id": "NGjvNwKx_Te7"
      },
      "outputs": [
        {
          "name": "stdout",
          "output_type": "stream",
          "text": [
            "Sayı tam bölünmüyor.\n"
          ]
        }
      ],
      "source": [
        "A = int(input(\"Bir sayı girin: \"))\n",
        "if A % 7 == 0:\n",
        "    print(\"Sayı tam bölünüyor.\")\n",
        "else:\n",
        "    print(\"Sayı tam bölünmüyor.\")"
      ]
    },
    {
      "cell_type": "markdown",
      "metadata": {
        "id": "Kg3qiBAI_Te8"
      },
      "source": [
        "# Problem 2\n",
        "Kullanıcıdan vize ve final notu isteyin. Girilen vize notunun %40’ı ve \n",
        "girilen finalnotunun ise %60’ı alınarak yıl sonu not ortalaması hesaplanacaktır. \n",
        "\n",
        "Bu not ortalaması eğer 85 ve üzeri ise AA, \n",
        "\n",
        "75 ve 85 arasında ise BA, \n",
        "\n",
        "70 ve 75 arasında ise BB, \n",
        "\n",
        "65 ve 70 arasında ise CB,\n",
        "\n",
        "60 ve 65 arasında ise CC,\n",
        "\n",
        "55 ve 60 arasında ise DC,\n",
        "\n",
        "50 ve 55 arasında ise DD olarak hesaplanacaktır. \n",
        "\n",
        "Bu öğrencinin yıl sonu toplam notu 50’nin altında ise FF ile dersten kalacaktır. \n",
        "\n",
        "Ayrıca öğrencinin final notu 50’nin altında ise direkt FF ile kalacaktır."
      ]
    },
    {
      "cell_type": "code",
      "execution_count": 2,
      "metadata": {
        "id": "MXTtCxI1_Te8"
      },
      "outputs": [
        {
          "ename": "TypeError",
          "evalue": "'>=' not supported between instances of 'tuple' and 'int'",
          "output_type": "error",
          "traceback": [
            "\u001b[0;31m---------------------------------------------------------------------------\u001b[0m",
            "\u001b[0;31mTypeError\u001b[0m                                 Traceback (most recent call last)",
            "Cell \u001b[0;32mIn[2], line 9\u001b[0m\n\u001b[1;32m      6\u001b[0m \u001b[39mif\u001b[39;00m (final \u001b[39m<\u001b[39m \u001b[39m50\u001b[39m):\n\u001b[1;32m      7\u001b[0m     \u001b[39mprint\u001b[39m(\u001b[39m\"\u001b[39m\u001b[39mHarf notu FF\u001b[39m\u001b[39m\"\u001b[39m)\n\u001b[0;32m----> 9\u001b[0m \u001b[39mif\u001b[39;00m (yilsonunotu \u001b[39m>\u001b[39;49m\u001b[39m=\u001b[39;49m \u001b[39m85\u001b[39;49m):\n\u001b[1;32m     10\u001b[0m     \u001b[39mprint\u001b[39m(\u001b[39m\"\u001b[39m\u001b[39mHarf notu AA\u001b[39m\u001b[39m\"\u001b[39m)\n\u001b[1;32m     11\u001b[0m \u001b[39melif\u001b[39;00m (yilsonunotu \u001b[39m>\u001b[39m\u001b[39m=\u001b[39m\u001b[39m75\u001b[39m):\n",
            "\u001b[0;31mTypeError\u001b[0m: '>=' not supported between instances of 'tuple' and 'int'"
          ]
        }
      ],
      "source": [
        "vize = int(input(\"Vize notunuzu giriniz:\"))\n",
        "final = int(input(\"Final notunuzu giriniz:\"))\n",
        "yilsonunotu = (vize*0,40)+(final*0,60)\n",
        "\n",
        "\n",
        "if (final < 50):\n",
        "    print(\"Harf notu FF\")\n",
        "\n",
        "if (yilsonunotu >= 85):\n",
        "    print(\"Harf notu AA\")\n",
        "elif (yilsonunotu >=75):\n",
        "    print(\"Harf notu BA\")\n",
        "elif (yilsonunotu >= 70):\n",
        "    print(\"Harf notu BB\")\n",
        "elif (yilsonunotu >= 65):\n",
        "    print(\"Harf notu CB\")\n",
        "elif (yilsonunotu >= 60):\n",
        "    print(\"Harf notu CC\")\n",
        "elif (yilsonunotu >= 55):\n",
        "    print(\"Harf notu DC\")\n",
        "elif (yilsonunotu >= 50):\n",
        "    print(\"Harf notu DD\")\n",
        "elif (yilsonu < 50):\n",
        "    print(\"Harf notu FF. Kaldınız\")\n"
      ]
    },
    {
      "cell_type": "markdown",
      "metadata": {
        "id": "tAoRYCTC_Te8"
      },
      "source": [
        "# Problem 3\n",
        "İki YetGenli Zirve'de karşılaşıyorlar. Birbirlerini tanımak için sorular soruyorlar. Birbirlerine yaşlarını soruyorlar. Akıllarına bir Python programı yazıp, yaşlarını ve isimlerini giriyorlar. Büyük olanın yaşını ekrana yazdıran programı yazıyorlar. Sende bu iki YetGenli'ye destek olmak ister misin?\n",
        "\n",
        "```\n",
        "Birinci YetGenlinin ismi: Ahmet\n",
        "Birinci YetGenlinin yaşı : 20\n",
        "İkinci YetGenlinin ismi: Mehmet\n",
        "İkinci YetGenlinin yaşı : 25\n",
        "Mehmet'in yaşı daha büyük ve yaşı 25'tir.\n",
        "```"
      ]
    },
    {
      "cell_type": "code",
      "execution_count": 4,
      "metadata": {
        "id": "bPjE8W0i_Te8"
      },
      "outputs": [
        {
          "name": "stdout",
          "output_type": "stream",
          "text": [
            "Ahmet\n",
            "20\n",
            "Mehmet\n",
            "25\n",
            "Mehmet'in yaşı daha büyük ve yaşı 25'tir.\n"
          ]
        }
      ],
      "source": [
        "isim1 = str(input(\"İsim giriniz:\"))\n",
        "yas1 = int(input(\"Yaş giriniz:\"))\n",
        "isim2 = str(input(\"İsim giriniz:\"))\n",
        "yas2 = int(input(\"Yaş giriniz:\"))\n",
        "\n",
        "print(isim1)\n",
        "print(yas1)\n",
        "print(isim2)\n",
        "print(yas2)\n",
        "\n",
        "if yas1 > yas2:\n",
        "    print(f\"{isim1}'in yaşı daha büyük ve yaşı {yas1}'tir.\")\n",
        "elif yas2 > yas1:\n",
        "    print(f\"{isim2}'in yaşı daha büyük ve yaşı {yas2}'tir.\")\n",
        "    "
      ]
    },
    {
      "cell_type": "markdown",
      "metadata": {
        "id": "zBVv8Tyg_Te9"
      },
      "source": [
        "# Problem 4\n",
        "Pandemi döneminde AVM'lerde ateş ölçümü yapılıyor. AVM'ye giren kişinin ateş ölçümü 37.5 derecenin altında ise girişe izin veriliyor. 37.5 derecenin üstünde ise girişe izin verilmiyor. AVM'ye girişe izin verilip verilmediğini ekrana yazdıran bir program yazın.\n",
        "\n",
        "Program sonunda şöyle bir çıktı elde etmelisiniz:\n",
        "\n",
        "```\n",
        "Ateşiniz 37.5 derece. AVM'ye girebilirsin! Maske takmayı unutma!\n",
        "Ateşiniz 37.6 derece. AVM'ye giremezsin! Hemen evine dön!\n",
        "```"
      ]
    },
    {
      "cell_type": "code",
      "execution_count": 5,
      "metadata": {
        "id": "TSAXs8et_Te9"
      },
      "outputs": [],
      "source": [
        "atesolcum = float(input(\"Ateş ölçümü giriniz:\"))\n",
        "\n",
        "if atesolcum < 37.5:\n",
        "    print(\"Ateşin {} derece. AVM'ye girebilirsin! Maske takmayı unutma.\".format(atesolcum))\n",
        "    print(f\"Ateşin {atesolcum} derece. AVM'ye girebilirsin! Maske takmayı unutma.\")\n",
        "elif atesolcum > 37.5:\n",
        "    print(\"Ateşin {} derece. AVM'ye giremezsin! Hemen evive dön.\".format(atesolcum))\n",
        "    print(f\"Ateşin {atesolcum} derece. AVM'ye giremezsin! Hemen evive dön.\")\n",
        "    \n",
        "    "
      ]
    },
    {
      "cell_type": "markdown",
      "metadata": {
        "id": "6AEkZrDt_Te9"
      },
      "source": [
        "# Problem 5\n",
        "YetGen bir spor kulübüyle sponsorluk anlaşması yapıyor. Kulüp, sponsorluk anlaşmasına göre her YetGen liderinin beden kitle indeksini hesaplamak istiyor. Spor kulübü, beden kitle indeksini hesaplamak için YetGen Jump Python liderlerinden Berkcan ve Ahmet'i arıyor. Berkcan ve Ahmet, kulübe yardımcı olmak için bir Python programı yazıyorlar. Sende bu iki YetGen liderine destek olmak ister misin?\n",
        "\n",
        "Kullanıcıdan alınan boy ve kilo değerlerine göre beden kitle indeksini hesaplayın ve şu kurallara göre ekrana şu yazıları yazdırın.\n",
        "\n",
        "\n",
        "Beden Kitle İndeksi, kişinin ağırlığının (kg olarak) boyunun karesine (m olarak) bölünmesiyle hesaplanır.\n",
        "\n",
        "\n",
        "```\n",
        " BKİ 18.5'un altındaysa -------> Zayıf\n",
        "\n",
        " BKİ 18.5 ile 25 arasındaysa ------> Normal\n",
        "\n",
        " BKİ 25 ile 30 arasındaysa --------> Fazla Kilolu\n",
        "\n",
        " BKİ 30'un üstündeyse -------------> Obez\n",
        "```\n",
        "\n"
      ]
    },
    {
      "cell_type": "code",
      "execution_count": 6,
      "metadata": {
        "id": "t-XPI_u0_Te-"
      },
      "outputs": [
        {
          "name": "stdout",
          "output_type": "stream",
          "text": [
            "Beden kitle indeksiniz: 15.94387755102041\n",
            "Zayıf\n"
          ]
        }
      ],
      "source": [
        "kilo = float(input(\"Kilonuzu giriniz:\"))\n",
        "boy = float(input(\"Boyunuzu giriniz (m cinsinden):\"))\n",
        "bedenkitleindeksi = kilo/(boy**2)\n",
        "\n",
        "print(\"Beden kitle indeksiniz:\", bedenkitleindeksi)\n",
        "\n",
        "if bedenkitleindeksi <= 18.5:\n",
        "    print(\"Zayıf\")\n",
        "elif bedenkitleindeksi <=25:\n",
        "    print(\"Normal\")\n",
        "elif bedenkitleindeksi <= 30:\n",
        "    print(\"Fazla kilolu\")\n",
        "elif bedenkitleindeksi > 30:\n",
        "    print(\"Obez\")"
      ]
    },
    {
      "cell_type": "markdown",
      "metadata": {
        "id": "oFsvQyaO_Te-"
      },
      "source": [
        "# Problem 6\n",
        "Kullanıcıdan isim, yaş ve eğitim bilgilerini isteyip ehliyet alabilme  durumunu kontrol ediniz. \n",
        "\n",
        "Ehliyet alma koşulu en az 18 yaşında ve eğitim durumu lise ya da üniversite olmalıdır. "
      ]
    },
    {
      "cell_type": "code",
      "execution_count": 7,
      "metadata": {
        "id": "Tu2mcgco_Te-"
      },
      "outputs": [
        {
          "name": "stdout",
          "output_type": "stream",
          "text": [
            "Ehliyet alamaz.\n",
            "2009\n",
            "Artık yıl değildir\n"
          ]
        }
      ],
      "source": [
        "yas = int(input(\"Yaşınızı giriniz:\"))\n",
        "egitim = str(input(\"Eğitim durumunuzu giriniz:\"))\n",
        "\n",
        "if (int(yas) >= 18 and (egitim == \"üniversite\" or egitim == \"lise\")): \n",
        "    print(\"Ehliyet alabilir.\")\n",
        "else:\n",
        "    print(\"Ehliyet alamaz.\")\n",
        "    \n",
        "    # 7.Problemin Çözümünü Buraya Yazınız\n",
        "yil = int(input(\"Bir yıl giriniz:\"))\n",
        "\n",
        "print(yil)\n",
        "\n",
        "if (yil % 4 == 0 or yil % 400 == 0):\n",
        "    print(\"Artık yıl\")\n",
        "else:\n",
        "    print(\"Artık yıl değildir\")"
      ]
    },
    {
      "cell_type": "code",
      "execution_count": 8,
      "metadata": {
        "id": "4uWh8qUL_Te_"
      },
      "outputs": [
        {
          "ename": "SyntaxError",
          "evalue": "invalid syntax (2016687675.py, line 6)",
          "output_type": "error",
          "traceback": [
            "\u001b[0;36m  Cell \u001b[0;32mIn[8], line 6\u001b[0;36m\u001b[0m\n\u001b[0;31m    margo yıl % 400 == 0:\u001b[0m\n\u001b[0m          ^\u001b[0m\n\u001b[0;31mSyntaxError\u001b[0m\u001b[0;31m:\u001b[0m invalid syntax\n"
          ]
        }
      ],
      "source": [
        "yıl = int(input(\"Yılı giriniz: \"))\n",
        "\n",
        "if yıl % 4 == 0 and yıl % 100 != 0:\n",
        "    print(f\"{yıl} yılı artık yıldır.\")\n",
        "\n",
        "margo yıl % 400 == 0:\n",
        "    print(f\" {yıl} yılı artık yıldır.\")\n",
        "\n",
        "elseo:\n",
        "print(f\" {yıl} yılı artık yıl değildir.\")"
      ]
    },
    {
      "cell_type": "markdown",
      "metadata": {
        "id": "eUkxVSAE_Te_"
      },
      "source": [
        "# Problem 7\n",
        "Bir yılın artık yıl olup olmadığını kontrol etmek için bir program yazın. \n",
        "Artık yıl kuralı:\n",
        "\n",
        "a) Eğer yılın son iki basamağı (00) ile bitmiyor ve yalnızca 4'e tam bölünüyorsa artık yıldır. Ya da, \n",
        "\n",
        "b) Eğer yıl 400'e tam bölünüyorsa artık yıldır.\n",
        "\n",
        "**Örneğin**\n",
        "```\n",
        "2017 artık yıl değildir.\n",
        "1900 artık yıl değildir\n",
        "2012 artık yıldır.\n",
        "2000 artık yıldır.\n",
        "```"
      ]
    }
  ],
  "metadata": {
    "colab": {
      "provenance": []
    },
    "kernelspec": {
      "display_name": "Python 3",
      "language": "python",
      "name": "python3"
    },
    "language_info": {
      "codemirror_mode": {
        "name": "ipython",
        "version": 3
      },
      "file_extension": ".py",
      "mimetype": "text/x-python",
      "name": "python",
      "nbconvert_exporter": "python",
      "pygments_lexer": "ipython3",
      "version": "3.11.1"
    },
    "orig_nbformat": 4,
    "vscode": {
      "interpreter": {
        "hash": "aee8b7b246df8f9039afb4144a1f6fd8d2ca17a180786b69acc140d282b71a49"
      }
    }
  },
  "nbformat": 4,
  "nbformat_minor": 0
}
